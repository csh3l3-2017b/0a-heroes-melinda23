{
 "cells": [
  {
   "cell_type": "markdown",
   "metadata": {},
   "source": [
    "Tel U Penyelamat "
   ]
  },
  {
   "cell_type": "markdown",
   "metadata": {},
   "source": [
    "Melinda Dwika Nur Setiyawati \n",
    "1301154478 (IF - 39-02)"
   ]
  },
  {
   "cell_type": "markdown",
   "metadata": {},
   "source": [
    "membaca data file .cvs"
   ]
  },
  {
   "cell_type": "code",
   "execution_count": 83,
   "metadata": {},
   "outputs": [],
   "source": [
    "import pandas as pd\n",
    "data = pd.read_csv('test.csv')"
   ]
  },
  {
   "cell_type": "code",
   "execution_count": 84,
   "metadata": {
    "collapsed": true
   },
   "outputs": [],
   "source": [
    "#deklarasi variable ada nama dan roles\n",
    "heroes = data[\"name\"]\n",
    "role = []"
   ]
  },
  {
   "cell_type": "markdown",
   "metadata": {},
   "source": [
    "Menentukan peran dari masing-masing hero yang membutuhkan bantuan dari data yang tentukan seperti ini "
   ]
  },
  {
   "cell_type": "markdown",
   "metadata": {},
   "source": [
    "\n",
    "    Heroes yang memiliki movementSpeed >= 270, akan mendapat peran sebagai MARKSMAN\n",
    "    Heroes dengan mana >= 500, akan mendapat peran sebagai MAGE \n",
    "    Heroes dengan armor >= 25, akan mendapat peran sebagai TANK \n",
    "    Heroes dengan physicalAttack >= 121, akan mendapat peran sebagai ASSASSIN\n",
    "    Heroes dengan hp >= 2580, akan mendapat peran sebagai FIGHTER \n",
    "    Heroes lainnya akan mendapat peran sebagai SUPPORT \n"
   ]
  },
  {
   "cell_type": "code",
   "execution_count": 85,
   "metadata": {},
   "outputs": [],
   "source": [
    "for i in range (len(heroes)):\n",
    "    if (data[\"movementSpeed\"][i] >= 270):\n",
    "        role.append(\"MARKSMAN\")\n",
    "    elif (data[\"mana\"][i] >= 500):\n",
    "        role.append(\"MAGE\")\n",
    "    elif (data[\"armor\"][i] >= 25):\n",
    "        role.append(\"TANK\")\n",
    "    elif (data[\"physicalAttack\"] [i] >= 121):\n",
    "        role.append(\"ASSASSIN\")\n",
    "    elif (data[\"hp\"][i] >= 2580):\n",
    "        role.append(\"FIGHTER\")\n",
    "    else:\n",
    "        role.append(\"SUPPORT\")"
   ]
  },
  {
   "cell_type": "markdown",
   "metadata": {},
   "source": [
    "Setelah peran sudah didapatkan dengan syarat yang ditentukan. setelah itu hasil akan dimasukan ke dalam list prediksi. Dan mengexport hasil pembaharuan ke csv dan indes di nonaktifkan"
   ]
  },
  {
   "cell_type": "code",
   "execution_count": 86,
   "metadata": {},
   "outputs": [],
   "source": [
    "prediksi = pd.DataFrame({\"name\": heroes, \"role\": role})\n",
    "prediksi.to_csv(\"prediction.csv\", index = False)"
   ]
  }
 ],
 "metadata": {
  "kernelspec": {
   "display_name": "Python 3",
   "language": "python",
   "name": "python3"
  },
  "language_info": {
   "codemirror_mode": {
    "name": "ipython",
    "version": 3
   },
   "file_extension": ".py",
   "mimetype": "text/x-python",
   "name": "python",
   "nbconvert_exporter": "python",
   "pygments_lexer": "ipython3",
   "version": "3.6.3"
  }
 },
 "nbformat": 4,
 "nbformat_minor": 2
}
